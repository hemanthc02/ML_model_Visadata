{
 "cells": [
  {
   "cell_type": "code",
   "execution_count": null,
   "id": "dc0b8ee5",
   "metadata": {},
   "outputs": [],
   "source": [
    "''' working on the visa data to know that the applied persons visa is certified or denied'''"
   ]
  },
  {
   "cell_type": "markdown",
   "id": "1c258b5a",
   "metadata": {},
   "source": [
    "# importing the required packages"
   ]
  },
  {
   "cell_type": "code",
   "execution_count": 1,
   "id": "2cf292d6",
   "metadata": {},
   "outputs": [
    {
     "data": {
      "text/plain": [
       "'C:\\\\Users\\\\DELL\\\\Documents\\\\EDA_Model_visadataset'"
      ]
     },
     "execution_count": 1,
     "metadata": {},
     "output_type": "execute_result"
    }
   ],
   "source": [
    "import os\n",
    "os.getcwd()"
   ]
  },
  {
   "cell_type": "code",
   "execution_count": 2,
   "id": "3b6b84c0",
   "metadata": {},
   "outputs": [],
   "source": [
    "import pandas as pd\n",
    "import numpy as np\n",
    "import matplotlib.pyplot as plt\n",
    "import seaborn as sns"
   ]
  },
  {
   "cell_type": "markdown",
   "id": "9962471c",
   "metadata": {},
   "source": [
    "# Reading the data"
   ]
  },
  {
   "cell_type": "code",
   "execution_count": 3,
   "id": "bdda548e",
   "metadata": {},
   "outputs": [
    {
     "data": {
      "text/html": [
       "<div>\n",
       "<style scoped>\n",
       "    .dataframe tbody tr th:only-of-type {\n",
       "        vertical-align: middle;\n",
       "    }\n",
       "\n",
       "    .dataframe tbody tr th {\n",
       "        vertical-align: top;\n",
       "    }\n",
       "\n",
       "    .dataframe thead th {\n",
       "        text-align: right;\n",
       "    }\n",
       "</style>\n",
       "<table border=\"1\" class=\"dataframe\">\n",
       "  <thead>\n",
       "    <tr style=\"text-align: right;\">\n",
       "      <th></th>\n",
       "      <th>case_id</th>\n",
       "      <th>continent</th>\n",
       "      <th>education_of_employee</th>\n",
       "      <th>has_job_experience</th>\n",
       "      <th>requires_job_training</th>\n",
       "      <th>no_of_employees</th>\n",
       "      <th>yr_of_estab</th>\n",
       "      <th>region_of_employment</th>\n",
       "      <th>prevailing_wage</th>\n",
       "      <th>unit_of_wage</th>\n",
       "      <th>full_time_position</th>\n",
       "      <th>case_status</th>\n",
       "    </tr>\n",
       "  </thead>\n",
       "  <tbody>\n",
       "    <tr>\n",
       "      <th>0</th>\n",
       "      <td>EZYV01</td>\n",
       "      <td>Asia</td>\n",
       "      <td>High School</td>\n",
       "      <td>N</td>\n",
       "      <td>N</td>\n",
       "      <td>14513</td>\n",
       "      <td>2007</td>\n",
       "      <td>West</td>\n",
       "      <td>592.2029</td>\n",
       "      <td>Hour</td>\n",
       "      <td>Y</td>\n",
       "      <td>Denied</td>\n",
       "    </tr>\n",
       "    <tr>\n",
       "      <th>1</th>\n",
       "      <td>EZYV02</td>\n",
       "      <td>Asia</td>\n",
       "      <td>Master's</td>\n",
       "      <td>Y</td>\n",
       "      <td>N</td>\n",
       "      <td>2412</td>\n",
       "      <td>2002</td>\n",
       "      <td>Northeast</td>\n",
       "      <td>83425.6500</td>\n",
       "      <td>Year</td>\n",
       "      <td>Y</td>\n",
       "      <td>Certified</td>\n",
       "    </tr>\n",
       "    <tr>\n",
       "      <th>2</th>\n",
       "      <td>EZYV03</td>\n",
       "      <td>Asia</td>\n",
       "      <td>Bachelor's</td>\n",
       "      <td>N</td>\n",
       "      <td>Y</td>\n",
       "      <td>44444</td>\n",
       "      <td>2008</td>\n",
       "      <td>West</td>\n",
       "      <td>122996.8600</td>\n",
       "      <td>Year</td>\n",
       "      <td>Y</td>\n",
       "      <td>Denied</td>\n",
       "    </tr>\n",
       "    <tr>\n",
       "      <th>3</th>\n",
       "      <td>EZYV04</td>\n",
       "      <td>Asia</td>\n",
       "      <td>Bachelor's</td>\n",
       "      <td>N</td>\n",
       "      <td>N</td>\n",
       "      <td>98</td>\n",
       "      <td>1897</td>\n",
       "      <td>West</td>\n",
       "      <td>83434.0300</td>\n",
       "      <td>Year</td>\n",
       "      <td>Y</td>\n",
       "      <td>Denied</td>\n",
       "    </tr>\n",
       "  </tbody>\n",
       "</table>\n",
       "</div>"
      ],
      "text/plain": [
       "  case_id continent education_of_employee has_job_experience  \\\n",
       "0  EZYV01      Asia           High School                  N   \n",
       "1  EZYV02      Asia              Master's                  Y   \n",
       "2  EZYV03      Asia            Bachelor's                  N   \n",
       "3  EZYV04      Asia            Bachelor's                  N   \n",
       "\n",
       "  requires_job_training  no_of_employees  yr_of_estab region_of_employment  \\\n",
       "0                     N            14513         2007                 West   \n",
       "1                     N             2412         2002            Northeast   \n",
       "2                     Y            44444         2008                 West   \n",
       "3                     N               98         1897                 West   \n",
       "\n",
       "   prevailing_wage unit_of_wage full_time_position case_status  \n",
       "0         592.2029         Hour                  Y      Denied  \n",
       "1       83425.6500         Year                  Y   Certified  \n",
       "2      122996.8600         Year                  Y      Denied  \n",
       "3       83434.0300         Year                  Y      Denied  "
      ]
     },
     "execution_count": 3,
     "metadata": {},
     "output_type": "execute_result"
    }
   ],
   "source": [
    "df=pd.read_csv('Visadataset.csv')\n",
    "df.head(4)"
   ]
  },
  {
   "cell_type": "markdown",
   "id": "b1bc94bb",
   "metadata": {},
   "source": [
    "# data inspection"
   ]
  },
  {
   "cell_type": "code",
   "execution_count": 4,
   "id": "5297b60c",
   "metadata": {},
   "outputs": [
    {
     "data": {
      "text/plain": [
       "(25480, 12)"
      ]
     },
     "execution_count": 4,
     "metadata": {},
     "output_type": "execute_result"
    }
   ],
   "source": [
    "df.shape"
   ]
  },
  {
   "cell_type": "code",
   "execution_count": 5,
   "id": "234a8e9d",
   "metadata": {},
   "outputs": [
    {
     "data": {
      "text/plain": [
       "case_id                   object\n",
       "continent                 object\n",
       "education_of_employee     object\n",
       "has_job_experience        object\n",
       "requires_job_training     object\n",
       "no_of_employees            int64\n",
       "yr_of_estab                int64\n",
       "region_of_employment      object\n",
       "prevailing_wage          float64\n",
       "unit_of_wage              object\n",
       "full_time_position        object\n",
       "case_status               object\n",
       "dtype: object"
      ]
     },
     "execution_count": 5,
     "metadata": {},
     "output_type": "execute_result"
    }
   ],
   "source": [
    "df.dtypes"
   ]
  },
  {
   "cell_type": "code",
   "execution_count": 6,
   "id": "aea26f44",
   "metadata": {},
   "outputs": [],
   "source": [
    "#here--rows=25480,\n",
    "#----columns=12 columns"
   ]
  },
  {
   "cell_type": "code",
   "execution_count": 7,
   "id": "2edf0363",
   "metadata": {},
   "outputs": [],
   "source": [
    "#here case id has the unique values so drop the column"
   ]
  },
  {
   "cell_type": "code",
   "execution_count": 8,
   "id": "32064ee1",
   "metadata": {},
   "outputs": [
    {
     "data": {
      "text/plain": [
       "25480"
      ]
     },
     "execution_count": 8,
     "metadata": {},
     "output_type": "execute_result"
    }
   ],
   "source": [
    "df['case_id'].nunique()"
   ]
  },
  {
   "cell_type": "code",
   "execution_count": 9,
   "id": "81857ada",
   "metadata": {},
   "outputs": [
    {
     "data": {
      "text/plain": [
       "(25480, 11)"
      ]
     },
     "execution_count": 9,
     "metadata": {},
     "output_type": "execute_result"
    }
   ],
   "source": [
    "df=df.drop('case_id',axis=1)\n",
    "df.shape"
   ]
  },
  {
   "cell_type": "markdown",
   "id": "3c02a1e5",
   "metadata": {},
   "source": [
    "# null values checking"
   ]
  },
  {
   "cell_type": "code",
   "execution_count": 10,
   "id": "1451b455",
   "metadata": {},
   "outputs": [
    {
     "data": {
      "text/plain": [
       "continent                0\n",
       "education_of_employee    0\n",
       "has_job_experience       0\n",
       "requires_job_training    0\n",
       "no_of_employees          0\n",
       "yr_of_estab              0\n",
       "region_of_employment     0\n",
       "prevailing_wage          0\n",
       "unit_of_wage             0\n",
       "full_time_position       0\n",
       "case_status              0\n",
       "dtype: int64"
      ]
     },
     "execution_count": 10,
     "metadata": {},
     "output_type": "execute_result"
    }
   ],
   "source": [
    "#checking the nulll values\n",
    "df.isnull().sum()"
   ]
  },
  {
   "cell_type": "code",
   "execution_count": 11,
   "id": "bfdf5daa",
   "metadata": {},
   "outputs": [],
   "source": [
    "# no null values we can work on the data"
   ]
  },
  {
   "cell_type": "code",
   "execution_count": 12,
   "id": "41dec64e",
   "metadata": {},
   "outputs": [],
   "source": [
    "cat,num=[],[]\n",
    "for keys,values in (df.dtypes).items():\n",
    "    if values=='O':\n",
    "        cat.append(keys)\n",
    "    else:\n",
    "        num.append(keys)"
   ]
  },
  {
   "cell_type": "markdown",
   "id": "f5a7e676",
   "metadata": {},
   "source": [
    "# categorical numerical columns separation"
   ]
  },
  {
   "cell_type": "code",
   "execution_count": 13,
   "id": "c9bcdfb0",
   "metadata": {},
   "outputs": [
    {
     "data": {
      "text/plain": [
       "['continent',\n",
       " 'education_of_employee',\n",
       " 'has_job_experience',\n",
       " 'requires_job_training',\n",
       " 'region_of_employment',\n",
       " 'unit_of_wage',\n",
       " 'full_time_position',\n",
       " 'case_status']"
      ]
     },
     "execution_count": 13,
     "metadata": {},
     "output_type": "execute_result"
    }
   ],
   "source": [
    "cat"
   ]
  },
  {
   "cell_type": "code",
   "execution_count": 14,
   "id": "e32b79ef",
   "metadata": {},
   "outputs": [
    {
     "data": {
      "text/plain": [
       "8"
      ]
     },
     "execution_count": 14,
     "metadata": {},
     "output_type": "execute_result"
    }
   ],
   "source": [
    "len(cat)\n",
    "#we have 8 categorical columns"
   ]
  },
  {
   "cell_type": "code",
   "execution_count": 15,
   "id": "f8d0e7db",
   "metadata": {},
   "outputs": [
    {
     "data": {
      "text/plain": [
       "['no_of_employees', 'yr_of_estab', 'prevailing_wage']"
      ]
     },
     "execution_count": 15,
     "metadata": {},
     "output_type": "execute_result"
    }
   ],
   "source": [
    "num\n",
    "#we have only the 3 columns of numerical data"
   ]
  },
  {
   "cell_type": "code",
   "execution_count": 16,
   "id": "773f844e",
   "metadata": {},
   "outputs": [
    {
     "data": {
      "text/html": [
       "<div>\n",
       "<style scoped>\n",
       "    .dataframe tbody tr th:only-of-type {\n",
       "        vertical-align: middle;\n",
       "    }\n",
       "\n",
       "    .dataframe tbody tr th {\n",
       "        vertical-align: top;\n",
       "    }\n",
       "\n",
       "    .dataframe thead th {\n",
       "        text-align: right;\n",
       "    }\n",
       "</style>\n",
       "<table border=\"1\" class=\"dataframe\">\n",
       "  <thead>\n",
       "    <tr style=\"text-align: right;\">\n",
       "      <th></th>\n",
       "      <th>no_of_employees</th>\n",
       "      <th>yr_of_estab</th>\n",
       "      <th>prevailing_wage</th>\n",
       "    </tr>\n",
       "  </thead>\n",
       "  <tbody>\n",
       "    <tr>\n",
       "      <th>count</th>\n",
       "      <td>25480.000000</td>\n",
       "      <td>25480.000000</td>\n",
       "      <td>25480.000000</td>\n",
       "    </tr>\n",
       "    <tr>\n",
       "      <th>mean</th>\n",
       "      <td>5667.043210</td>\n",
       "      <td>1979.409929</td>\n",
       "      <td>74455.814592</td>\n",
       "    </tr>\n",
       "    <tr>\n",
       "      <th>std</th>\n",
       "      <td>22877.928848</td>\n",
       "      <td>42.366929</td>\n",
       "      <td>52815.942327</td>\n",
       "    </tr>\n",
       "    <tr>\n",
       "      <th>min</th>\n",
       "      <td>-26.000000</td>\n",
       "      <td>1800.000000</td>\n",
       "      <td>2.136700</td>\n",
       "    </tr>\n",
       "    <tr>\n",
       "      <th>25%</th>\n",
       "      <td>1022.000000</td>\n",
       "      <td>1976.000000</td>\n",
       "      <td>34015.480000</td>\n",
       "    </tr>\n",
       "    <tr>\n",
       "      <th>50%</th>\n",
       "      <td>2109.000000</td>\n",
       "      <td>1997.000000</td>\n",
       "      <td>70308.210000</td>\n",
       "    </tr>\n",
       "    <tr>\n",
       "      <th>75%</th>\n",
       "      <td>3504.000000</td>\n",
       "      <td>2005.000000</td>\n",
       "      <td>107735.512500</td>\n",
       "    </tr>\n",
       "    <tr>\n",
       "      <th>max</th>\n",
       "      <td>602069.000000</td>\n",
       "      <td>2016.000000</td>\n",
       "      <td>319210.270000</td>\n",
       "    </tr>\n",
       "  </tbody>\n",
       "</table>\n",
       "</div>"
      ],
      "text/plain": [
       "       no_of_employees   yr_of_estab  prevailing_wage\n",
       "count     25480.000000  25480.000000     25480.000000\n",
       "mean       5667.043210   1979.409929     74455.814592\n",
       "std       22877.928848     42.366929     52815.942327\n",
       "min         -26.000000   1800.000000         2.136700\n",
       "25%        1022.000000   1976.000000     34015.480000\n",
       "50%        2109.000000   1997.000000     70308.210000\n",
       "75%        3504.000000   2005.000000    107735.512500\n",
       "max      602069.000000   2016.000000    319210.270000"
      ]
     },
     "execution_count": 16,
     "metadata": {},
     "output_type": "execute_result"
    }
   ],
   "source": [
    "df.describe()"
   ]
  },
  {
   "cell_type": "markdown",
   "id": "25624246",
   "metadata": {},
   "source": [
    "# correlation"
   ]
  },
  {
   "cell_type": "code",
   "execution_count": 17,
   "id": "90da8557",
   "metadata": {},
   "outputs": [
    {
     "name": "stderr",
     "output_type": "stream",
     "text": [
      "C:\\Users\\DELL\\AppData\\Local\\Temp\\ipykernel_5228\\960497222.py:1: FutureWarning: The default value of numeric_only in DataFrame.corr is deprecated. In a future version, it will default to False. Select only valid columns or specify the value of numeric_only to silence this warning.\n",
      "  cor=df.corr()\n"
     ]
    }
   ],
   "source": [
    "cor=df.corr()"
   ]
  },
  {
   "cell_type": "markdown",
   "id": "1ed81303",
   "metadata": {},
   "source": [
    "# Heat map"
   ]
  },
  {
   "cell_type": "code",
   "execution_count": 18,
   "id": "c43add36",
   "metadata": {},
   "outputs": [
    {
     "data": {
      "text/plain": [
       "<Axes: >"
      ]
     },
     "execution_count": 18,
     "metadata": {},
     "output_type": "execute_result"
    },
    {
     "data": {
      "image/png": "[encoded data removed]",
      "text/plain": [
       "<Figure size 1000x400 with 2 Axes>"
      ]
     },
     "metadata": {},
     "output_type": "display_data"
    }
   ],
   "source": [
    "plt.figure(figsize=(10, 4))\n",
    "sns.heatmap(cor, fmt='.2g', annot=True)"
   ]
  },
  {
   "cell_type": "markdown",
   "id": "5709b171",
   "metadata": {},
   "source": [
    "# Dealing with Outliers"
   ]
  },
  {
   "cell_type": "code",
   "execution_count": 19,
   "id": "272db49b",
   "metadata": {},
   "outputs": [],
   "source": [
    "# using the z-score method checking the outliers in the data"
   ]
  },
  {
   "cell_type": "markdown",
   "id": "255a855e",
   "metadata": {},
   "source": [
    "# box plot to visualize the outliers"
   ]
  },
  {
   "cell_type": "code",
   "execution_count": 20,
   "id": "02575548",
   "metadata": {},
   "outputs": [
    {
     "data": {
      "image/png": "[encoded data removed]",
      "text/plain": [
       "<Figure size 800x300 with 1 Axes>"
      ]
     },
     "metadata": {},
     "output_type": "display_data"
    }
   ],
   "source": [
    "# box plots-for outliers-----run this code--pending....\n",
    "plt.figure(figsize=(8,3))\n",
    "plt.boxplot(df['no_of_employees'],vert=False)\n",
    "plt.show()"
   ]
  },
  {
   "cell_type": "code",
   "execution_count": 21,
   "id": "ade27212",
   "metadata": {},
   "outputs": [
    {
     "data": {
      "image/png": "[encoded data removed]",
      "text/plain": [
       "<Figure size 800x300 with 1 Axes>"
      ]
     },
     "metadata": {},
     "output_type": "display_data"
    }
   ],
   "source": [
    "plt.figure(figsize=(8,3))\n",
    "plt.boxplot(df['yr_of_estab'],vert=False)\n",
    "plt.show()"
   ]
  },
  {
   "cell_type": "code",
   "execution_count": 22,
   "id": "3fd29cff",
   "metadata": {},
   "outputs": [
    {
     "data": {
      "image/png": "[encoded data removed]",
      "text/plain": [
       "<Figure size 800x300 with 1 Axes>"
      ]
     },
     "metadata": {},
     "output_type": "display_data"
    }
   ],
   "source": [
    "plt.figure(figsize=(8,3))\n",
    "plt.boxplot(df['prevailing_wage'],vert=False)\n",
    "plt.show()"
   ]
  },
  {
   "cell_type": "markdown",
   "id": "956daca1",
   "metadata": {},
   "source": [
    "# importing the package to find the outliers"
   ]
  },
  {
   "cell_type": "code",
   "execution_count": 23,
   "id": "2f938c46",
   "metadata": {},
   "outputs": [],
   "source": [
    "from scipy import stats\n",
    "\n",
    "columns=['no_of_employees', 'yr_of_estab', 'prevailing_wage']\n",
    "\n",
    "z_scores = np.abs(stats.zscore(df[columns]))\n",
    "\n",
    "z_score_threshold=3\n",
    "\n",
    "outlier_indices = np.where(z_scores > z_score_threshold)[0]\n",
    "\n",
    "df = df.drop(df.index[outlier_indices])\n"
   ]
  },
  {
   "cell_type": "code",
   "execution_count": 24,
   "id": "8d5c09f6",
   "metadata": {},
   "outputs": [
    {
     "data": {
      "text/plain": [
       "(24097, 11)"
      ]
     },
     "execution_count": 24,
     "metadata": {},
     "output_type": "execute_result"
    }
   ],
   "source": [
    "df.shape"
   ]
  },
  {
   "cell_type": "code",
   "execution_count": 25,
   "id": "a7e0ff8e",
   "metadata": {},
   "outputs": [],
   "source": [
    "#25480-original data set rows\n",
    "\n",
    "#24097-after droping the outliers rows"
   ]
  },
  {
   "cell_type": "code",
   "execution_count": 26,
   "id": "77d291d3",
   "metadata": {},
   "outputs": [
    {
     "data": {
      "text/plain": [
       "1383"
      ]
     },
     "execution_count": 26,
     "metadata": {},
     "output_type": "execute_result"
    }
   ],
   "source": [
    "25480-24097"
   ]
  },
  {
   "cell_type": "code",
   "execution_count": 27,
   "id": "be46c70d",
   "metadata": {},
   "outputs": [
    {
     "data": {
      "text/plain": [
       "5.42778649921507"
      ]
     },
     "execution_count": 27,
     "metadata": {},
     "output_type": "execute_result"
    }
   ],
   "source": [
    "(1383/25480)*100\n",
    "#5% of the rows was  droped"
   ]
  },
  {
   "cell_type": "markdown",
   "id": "b64855f1",
   "metadata": {},
   "source": [
    "# heat map and corelation after clearing the outliers"
   ]
  },
  {
   "cell_type": "code",
   "execution_count": 28,
   "id": "dc99c494",
   "metadata": {},
   "outputs": [
    {
     "name": "stderr",
     "output_type": "stream",
     "text": [
      "C:\\Users\\DELL\\AppData\\Local\\Temp\\ipykernel_5228\\3883913210.py:1: FutureWarning: The default value of numeric_only in DataFrame.corr is deprecated. In a future version, it will default to False. Select only valid columns or specify the value of numeric_only to silence this warning.\n",
      "  cor1=df.corr()\n"
     ]
    },
    {
     "data": {
      "text/html": [
       "<div>\n",
       "<style scoped>\n",
       "    .dataframe tbody tr th:only-of-type {\n",
       "        vertical-align: middle;\n",
       "    }\n",
       "\n",
       "    .dataframe tbody tr th {\n",
       "        vertical-align: top;\n",
       "    }\n",
       "\n",
       "    .dataframe thead th {\n",
       "        text-align: right;\n",
       "    }\n",
       "</style>\n",
       "<table border=\"1\" class=\"dataframe\">\n",
       "  <thead>\n",
       "    <tr style=\"text-align: right;\">\n",
       "      <th></th>\n",
       "      <th>no_of_employees</th>\n",
       "      <th>yr_of_estab</th>\n",
       "      <th>prevailing_wage</th>\n",
       "    </tr>\n",
       "  </thead>\n",
       "  <tbody>\n",
       "    <tr>\n",
       "      <th>no_of_employees</th>\n",
       "      <td>1.000000</td>\n",
       "      <td>0.001187</td>\n",
       "      <td>-0.004514</td>\n",
       "    </tr>\n",
       "    <tr>\n",
       "      <th>yr_of_estab</th>\n",
       "      <td>0.001187</td>\n",
       "      <td>1.000000</td>\n",
       "      <td>0.019285</td>\n",
       "    </tr>\n",
       "    <tr>\n",
       "      <th>prevailing_wage</th>\n",
       "      <td>-0.004514</td>\n",
       "      <td>0.019285</td>\n",
       "      <td>1.000000</td>\n",
       "    </tr>\n",
       "  </tbody>\n",
       "</table>\n",
       "</div>"
      ],
      "text/plain": [
       "                 no_of_employees  yr_of_estab  prevailing_wage\n",
       "no_of_employees         1.000000     0.001187        -0.004514\n",
       "yr_of_estab             0.001187     1.000000         0.019285\n",
       "prevailing_wage        -0.004514     0.019285         1.000000"
      ]
     },
     "execution_count": 28,
     "metadata": {},
     "output_type": "execute_result"
    }
   ],
   "source": [
    "cor1=df.corr()\n",
    "cor1"
   ]
  },
  {
   "cell_type": "code",
   "execution_count": 29,
   "id": "7a1a37e0",
   "metadata": {},
   "outputs": [
    {
     "data": {
      "text/plain": [
       "<Axes: >"
      ]
     },
     "execution_count": 29,
     "metadata": {},
     "output_type": "execute_result"
    },
    {
     "data": {
      "image/png": "[encoded data removed]",
      "text/plain": [
       "<Figure size 1000x400 with 2 Axes>"
      ]
     },
     "metadata": {},
     "output_type": "display_data"
    }
   ],
   "source": [
    "plt.figure(figsize=(10,4))\n",
    "sns.heatmap(cor1, fmt='.2g', annot=True)"
   ]
  },
  {
   "cell_type": "markdown",
   "id": "1b004c60",
   "metadata": {},
   "source": [
    "# categorical to numerical column"
   ]
  },
  {
   "cell_type": "code",
   "execution_count": 30,
   "id": "47afeddc",
   "metadata": {},
   "outputs": [],
   "source": [
    "for categorical in cat:\n",
    "    from sklearn.preprocessing import LabelEncoder  # Import the package\n",
    "    le=LabelEncoder()  # save the package\n",
    "    df[categorical]=le.fit_transform(df[categorical]) # Apply fit transform"
   ]
  },
  {
   "cell_type": "code",
   "execution_count": 31,
   "id": "4a4a5fbd",
   "metadata": {},
   "outputs": [
    {
     "data": {
      "text/html": [
       "<div>\n",
       "<style scoped>\n",
       "    .dataframe tbody tr th:only-of-type {\n",
       "        vertical-align: middle;\n",
       "    }\n",
       "\n",
       "    .dataframe tbody tr th {\n",
       "        vertical-align: top;\n",
       "    }\n",
       "\n",
       "    .dataframe thead th {\n",
       "        text-align: right;\n",
       "    }\n",
       "</style>\n",
       "<table border=\"1\" class=\"dataframe\">\n",
       "  <thead>\n",
       "    <tr style=\"text-align: right;\">\n",
       "      <th></th>\n",
       "      <th>continent</th>\n",
       "      <th>education_of_employee</th>\n",
       "      <th>has_job_experience</th>\n",
       "      <th>requires_job_training</th>\n",
       "      <th>no_of_employees</th>\n",
       "      <th>yr_of_estab</th>\n",
       "      <th>region_of_employment</th>\n",
       "      <th>prevailing_wage</th>\n",
       "      <th>unit_of_wage</th>\n",
       "      <th>full_time_position</th>\n",
       "      <th>case_status</th>\n",
       "    </tr>\n",
       "  </thead>\n",
       "  <tbody>\n",
       "    <tr>\n",
       "      <th>0</th>\n",
       "      <td>1</td>\n",
       "      <td>2</td>\n",
       "      <td>0</td>\n",
       "      <td>0</td>\n",
       "      <td>14513</td>\n",
       "      <td>2007</td>\n",
       "      <td>4</td>\n",
       "      <td>592.2029</td>\n",
       "      <td>0</td>\n",
       "      <td>1</td>\n",
       "      <td>1</td>\n",
       "    </tr>\n",
       "    <tr>\n",
       "      <th>1</th>\n",
       "      <td>1</td>\n",
       "      <td>3</td>\n",
       "      <td>1</td>\n",
       "      <td>0</td>\n",
       "      <td>2412</td>\n",
       "      <td>2002</td>\n",
       "      <td>2</td>\n",
       "      <td>83425.6500</td>\n",
       "      <td>3</td>\n",
       "      <td>1</td>\n",
       "      <td>0</td>\n",
       "    </tr>\n",
       "    <tr>\n",
       "      <th>2</th>\n",
       "      <td>1</td>\n",
       "      <td>0</td>\n",
       "      <td>0</td>\n",
       "      <td>1</td>\n",
       "      <td>44444</td>\n",
       "      <td>2008</td>\n",
       "      <td>4</td>\n",
       "      <td>122996.8600</td>\n",
       "      <td>3</td>\n",
       "      <td>1</td>\n",
       "      <td>1</td>\n",
       "    </tr>\n",
       "    <tr>\n",
       "      <th>3</th>\n",
       "      <td>1</td>\n",
       "      <td>0</td>\n",
       "      <td>0</td>\n",
       "      <td>0</td>\n",
       "      <td>98</td>\n",
       "      <td>1897</td>\n",
       "      <td>4</td>\n",
       "      <td>83434.0300</td>\n",
       "      <td>3</td>\n",
       "      <td>1</td>\n",
       "      <td>1</td>\n",
       "    </tr>\n",
       "  </tbody>\n",
       "</table>\n",
       "</div>"
      ],
      "text/plain": [
       "   continent  education_of_employee  has_job_experience  \\\n",
       "0          1                      2                   0   \n",
       "1          1                      3                   1   \n",
       "2          1                      0                   0   \n",
       "3          1                      0                   0   \n",
       "\n",
       "   requires_job_training  no_of_employees  yr_of_estab  region_of_employment  \\\n",
       "0                      0            14513         2007                     4   \n",
       "1                      0             2412         2002                     2   \n",
       "2                      1            44444         2008                     4   \n",
       "3                      0               98         1897                     4   \n",
       "\n",
       "   prevailing_wage  unit_of_wage  full_time_position  case_status  \n",
       "0         592.2029             0                   1            1  \n",
       "1       83425.6500             3                   1            0  \n",
       "2      122996.8600             3                   1            1  \n",
       "3       83434.0300             3                   1            1  "
      ]
     },
     "execution_count": 31,
     "metadata": {},
     "output_type": "execute_result"
    }
   ],
   "source": [
    "df.head(4)"
   ]
  },
  {
   "cell_type": "code",
   "execution_count": 32,
   "id": "dbb8b19f",
   "metadata": {},
   "outputs": [],
   "source": [
    "df1= pd.DataFrame(df)\n",
    "\n",
    "df1.to_csv('Visadata_preprocessed.csv', index=False)"
   ]
  },
  {
   "cell_type": "code",
   "execution_count": 33,
   "id": "384d0464",
   "metadata": {},
   "outputs": [
    {
     "data": {
      "text/html": [
       "<div>\n",
       "<style scoped>\n",
       "    .dataframe tbody tr th:only-of-type {\n",
       "        vertical-align: middle;\n",
       "    }\n",
       "\n",
       "    .dataframe tbody tr th {\n",
       "        vertical-align: top;\n",
       "    }\n",
       "\n",
       "    .dataframe thead th {\n",
       "        text-align: right;\n",
       "    }\n",
       "</style>\n",
       "<table border=\"1\" class=\"dataframe\">\n",
       "  <thead>\n",
       "    <tr style=\"text-align: right;\">\n",
       "      <th></th>\n",
       "      <th>continent</th>\n",
       "      <th>education_of_employee</th>\n",
       "      <th>has_job_experience</th>\n",
       "      <th>requires_job_training</th>\n",
       "      <th>no_of_employees</th>\n",
       "      <th>yr_of_estab</th>\n",
       "      <th>region_of_employment</th>\n",
       "      <th>prevailing_wage</th>\n",
       "      <th>unit_of_wage</th>\n",
       "      <th>full_time_position</th>\n",
       "      <th>case_status</th>\n",
       "    </tr>\n",
       "  </thead>\n",
       "  <tbody>\n",
       "    <tr>\n",
       "      <th>0</th>\n",
       "      <td>1</td>\n",
       "      <td>2</td>\n",
       "      <td>0</td>\n",
       "      <td>0</td>\n",
       "      <td>14513</td>\n",
       "      <td>2007</td>\n",
       "      <td>4</td>\n",
       "      <td>592.2029</td>\n",
       "      <td>0</td>\n",
       "      <td>1</td>\n",
       "      <td>1</td>\n",
       "    </tr>\n",
       "    <tr>\n",
       "      <th>1</th>\n",
       "      <td>1</td>\n",
       "      <td>3</td>\n",
       "      <td>1</td>\n",
       "      <td>0</td>\n",
       "      <td>2412</td>\n",
       "      <td>2002</td>\n",
       "      <td>2</td>\n",
       "      <td>83425.6500</td>\n",
       "      <td>3</td>\n",
       "      <td>1</td>\n",
       "      <td>0</td>\n",
       "    </tr>\n",
       "    <tr>\n",
       "      <th>2</th>\n",
       "      <td>1</td>\n",
       "      <td>0</td>\n",
       "      <td>0</td>\n",
       "      <td>1</td>\n",
       "      <td>44444</td>\n",
       "      <td>2008</td>\n",
       "      <td>4</td>\n",
       "      <td>122996.8600</td>\n",
       "      <td>3</td>\n",
       "      <td>1</td>\n",
       "      <td>1</td>\n",
       "    </tr>\n",
       "    <tr>\n",
       "      <th>3</th>\n",
       "      <td>1</td>\n",
       "      <td>0</td>\n",
       "      <td>0</td>\n",
       "      <td>0</td>\n",
       "      <td>98</td>\n",
       "      <td>1897</td>\n",
       "      <td>4</td>\n",
       "      <td>83434.0300</td>\n",
       "      <td>3</td>\n",
       "      <td>1</td>\n",
       "      <td>1</td>\n",
       "    </tr>\n",
       "  </tbody>\n",
       "</table>\n",
       "</div>"
      ],
      "text/plain": [
       "   continent  education_of_employee  has_job_experience  \\\n",
       "0          1                      2                   0   \n",
       "1          1                      3                   1   \n",
       "2          1                      0                   0   \n",
       "3          1                      0                   0   \n",
       "\n",
       "   requires_job_training  no_of_employees  yr_of_estab  region_of_employment  \\\n",
       "0                      0            14513         2007                     4   \n",
       "1                      0             2412         2002                     2   \n",
       "2                      1            44444         2008                     4   \n",
       "3                      0               98         1897                     4   \n",
       "\n",
       "   prevailing_wage  unit_of_wage  full_time_position  case_status  \n",
       "0         592.2029             0                   1            1  \n",
       "1       83425.6500             3                   1            0  \n",
       "2      122996.8600             3                   1            1  \n",
       "3       83434.0300             3                   1            1  "
      ]
     },
     "execution_count": 33,
     "metadata": {},
     "output_type": "execute_result"
    }
   ],
   "source": [
    "df1=pd.read_csv('Visadata_preprocessed.csv')\n",
    "df1.head(4)"
   ]
  },
  {
   "cell_type": "code",
   "execution_count": 34,
   "id": "97737a05",
   "metadata": {},
   "outputs": [
    {
     "data": {
      "text/plain": [
       "(24097, 11)"
      ]
     },
     "execution_count": 34,
     "metadata": {},
     "output_type": "execute_result"
    }
   ],
   "source": [
    "df1.shape"
   ]
  },
  {
   "cell_type": "markdown",
   "id": "53dc10cc",
   "metadata": {},
   "source": [
    "# seaparating the data into input-X and output-y"
   ]
  },
  {
   "cell_type": "code",
   "execution_count": 35,
   "id": "fb32652d",
   "metadata": {},
   "outputs": [],
   "source": [
    "X=df.drop('case_status',axis=1)\n",
    "y=df['case_status']"
   ]
  },
  {
   "cell_type": "markdown",
   "id": "cf237d91",
   "metadata": {},
   "source": [
    "# feature selection using the -Mutual Info Clasifi method"
   ]
  },
  {
   "cell_type": "code",
   "execution_count": 36,
   "id": "3137b7b9",
   "metadata": {},
   "outputs": [
    {
     "data": {
      "text/plain": [
       "array([0.00662145, 0.05120086, 0.02033962, 0.00612655, 0.00235631,\n",
       "       0.00388416, 0.01092362, 0.01409298, 0.02226787, 0.0043269 ])"
      ]
     },
     "execution_count": 36,
     "metadata": {},
     "output_type": "execute_result"
    }
   ],
   "source": [
    "from sklearn.feature_selection import mutual_info_classif\n",
    "MI=mutual_info_classif(X,y)\n",
    "MI"
   ]
  },
  {
   "cell_type": "code",
   "execution_count": 37,
   "id": "0e092bd2",
   "metadata": {},
   "outputs": [],
   "source": [
    "value=pd.Series(MI)\n",
    "value.index=X.columns"
   ]
  },
  {
   "cell_type": "code",
   "execution_count": 38,
   "id": "104711ba",
   "metadata": {},
   "outputs": [
    {
     "data": {
      "text/plain": [
       "no_of_employees          0.002356\n",
       "yr_of_estab              0.003884\n",
       "full_time_position       0.004327\n",
       "requires_job_training    0.006127\n",
       "continent                0.006621\n",
       "region_of_employment     0.010924\n",
       "prevailing_wage          0.014093\n",
       "has_job_experience       0.020340\n",
       "unit_of_wage             0.022268\n",
       "education_of_employee    0.051201\n",
       "dtype: float64"
      ]
     },
     "execution_count": 38,
     "metadata": {},
     "output_type": "execute_result"
    }
   ],
   "source": [
    "value.sort_values(ascending=True)"
   ]
  },
  {
   "cell_type": "code",
   "execution_count": 39,
   "id": "a9745959",
   "metadata": {},
   "outputs": [
    {
     "data": {
      "text/plain": [
       "<Axes: >"
      ]
     },
     "execution_count": 39,
     "metadata": {},
     "output_type": "execute_result"
    },
    {
     "data": {
      "image/png": "[encoded data removed]",
      "text/plain": [
       "<Figure size 640x480 with 1 Axes>"
      ]
     },
     "metadata": {},
     "output_type": "display_data"
    }
   ],
   "source": [
    "value.sort_values(ascending=True).plot(kind='bar')"
   ]
  },
  {
   "cell_type": "code",
   "execution_count": 40,
   "id": "077a567c",
   "metadata": {},
   "outputs": [],
   "source": [
    "# here droping the requires_job_training column which is very less relation"
   ]
  },
  {
   "cell_type": "code",
   "execution_count": 41,
   "id": "fefe0be0",
   "metadata": {},
   "outputs": [
    {
     "data": {
      "text/plain": [
       "Index(['continent', 'education_of_employee', 'has_job_experience',\n",
       "       'requires_job_training', 'no_of_employees', 'yr_of_estab',\n",
       "       'region_of_employment', 'prevailing_wage', 'unit_of_wage',\n",
       "       'full_time_position'],\n",
       "      dtype='object')"
      ]
     },
     "execution_count": 41,
     "metadata": {},
     "output_type": "execute_result"
    }
   ],
   "source": [
    "X.columns"
   ]
  },
  {
   "cell_type": "code",
   "execution_count": 42,
   "id": "24766e3b",
   "metadata": {},
   "outputs": [],
   "source": [
    "X=df.drop(['requires_job_training','case_status'],axis=1)\n",
    "y=df['case_status']"
   ]
  },
  {
   "cell_type": "markdown",
   "id": "681bbb18",
   "metadata": {},
   "source": [
    "# training the model by  Machine leraning algorithms"
   ]
  },
  {
   "cell_type": "markdown",
   "id": "585c8415",
   "metadata": {},
   "source": [
    "# without Hyper parameter Tuning"
   ]
  },
  {
   "cell_type": "markdown",
   "id": "54e13f19",
   "metadata": {},
   "source": [
    "# Decision Tree-Model-1"
   ]
  },
  {
   "cell_type": "code",
   "execution_count": 43,
   "id": "5050b8ed",
   "metadata": {},
   "outputs": [
    {
     "data": {
      "text/html": [
       "<div>\n",
       "<style scoped>\n",
       "    .dataframe tbody tr th:only-of-type {\n",
       "        vertical-align: middle;\n",
       "    }\n",
       "\n",
       "    .dataframe tbody tr th {\n",
       "        vertical-align: top;\n",
       "    }\n",
       "\n",
       "    .dataframe thead th {\n",
       "        text-align: right;\n",
       "    }\n",
       "</style>\n",
       "<table border=\"1\" class=\"dataframe\">\n",
       "  <thead>\n",
       "    <tr style=\"text-align: right;\">\n",
       "      <th></th>\n",
       "      <th>accuracy</th>\n",
       "      <th>precision</th>\n",
       "      <th>recall</th>\n",
       "      <th>f1_score</th>\n",
       "    </tr>\n",
       "  </thead>\n",
       "  <tbody>\n",
       "    <tr>\n",
       "      <th>Decision Tree</th>\n",
       "      <td>65.77</td>\n",
       "      <td>52.32</td>\n",
       "      <td>48.43</td>\n",
       "      <td>50.3</td>\n",
       "    </tr>\n",
       "  </tbody>\n",
       "</table>\n",
       "</div>"
      ],
      "text/plain": [
       "               accuracy  precision  recall  f1_score\n",
       "Decision Tree     65.77      52.32   48.43      50.3"
      ]
     },
     "execution_count": 43,
     "metadata": {},
     "output_type": "execute_result"
    },
    {
     "data": {
      "image/png": "[encoded data removed]",
      "text/plain": [
       "<Figure size 640x480 with 2 Axes>"
      ]
     },
     "metadata": {},
     "output_type": "display_data"
    }
   ],
   "source": [
    "###############---spliting the data-----###############\n",
    "\n",
    "\n",
    "X=df.drop('case_status',axis=1)\n",
    "y=df['case_status']\n",
    "\n",
    "################---segregating the data into Train data and the test data----###########################\n",
    "\n",
    "\n",
    "from sklearn.model_selection import train_test_split\n",
    "X_train,X_test,y_train,y_test=train_test_split(X,\n",
    "                                              y,\n",
    "                                              random_state=0,\n",
    "                                              test_size=0.2)\n",
    "\n",
    "###################------------Fitting the model-----####################################\n",
    "\n",
    "from sklearn.tree import DecisionTreeClassifier\n",
    "dt=DecisionTreeClassifier()\n",
    "dt.fit(X_train, y_train)\n",
    "\n",
    "##################---calculating the model prediction value-------###############################\n",
    "\n",
    "y_pred_dt=dt.predict(X_test)\n",
    "y_pred_dt\n",
    "\n",
    "##################-------importing the package and calculating the metrics------###############################\n",
    "\n",
    "\n",
    "from sklearn.metrics import accuracy_score,precision_score,recall_score,f1_score,classification_report\n",
    "from sklearn.metrics import confusion_matrix,ConfusionMatrixDisplay\n",
    "\n",
    "dtree_cmt=confusion_matrix(y_pred_dt,y_test)\n",
    "dtree_cmt\n",
    "sns.heatmap(dtree_cmt,annot=True)\n",
    "\n",
    "\n",
    "###################----calculating  the metrics for clasification algorithn-----#############################\n",
    "\n",
    "dt_metrics={}\n",
    "dt_metrics['accuracy']=round(accuracy_score(y_pred_dt,y_test)*100,2)\n",
    "dt_metrics['precision']=round(precision_score(y_pred_dt,y_test)*100,2)\n",
    "dt_metrics['recall']=round(recall_score(y_pred_dt,y_test)*100,2)\n",
    "dt_metrics['f1_score']=round(f1_score(y_pred_dt,y_test)*100,2)\n",
    "dt_metrics\n",
    "\n",
    "dt_metrics_df=pd.DataFrame(dt_metrics,index=['Decision Tree'])\n",
    "dt_metrics_df"
   ]
  },
  {
   "cell_type": "code",
   "execution_count": null,
   "id": "f93dcb0c",
   "metadata": {},
   "outputs": [],
   "source": []
  },
  {
   "cell_type": "markdown",
   "id": "c66544b7",
   "metadata": {},
   "source": [
    "# K-nearest Neighbours-Model-2"
   ]
  },
  {
   "cell_type": "code",
   "execution_count": 44,
   "id": "7a524371",
   "metadata": {},
   "outputs": [
    {
     "name": "stderr",
     "output_type": "stream",
     "text": [
      "C:\\Users\\DELL\\anaconda3\\Lib\\site-packages\\sklearn\\base.py:464: UserWarning: X does not have valid feature names, but KNeighborsClassifier was fitted with feature names\n",
      "  warnings.warn(\n"
     ]
    },
    {
     "data": {
      "text/html": [
       "<div>\n",
       "<style scoped>\n",
       "    .dataframe tbody tr th:only-of-type {\n",
       "        vertical-align: middle;\n",
       "    }\n",
       "\n",
       "    .dataframe tbody tr th {\n",
       "        vertical-align: top;\n",
       "    }\n",
       "\n",
       "    .dataframe thead th {\n",
       "        text-align: right;\n",
       "    }\n",
       "</style>\n",
       "<table border=\"1\" class=\"dataframe\">\n",
       "  <thead>\n",
       "    <tr style=\"text-align: right;\">\n",
       "      <th></th>\n",
       "      <th>accuracy</th>\n",
       "      <th>precision</th>\n",
       "      <th>recall</th>\n",
       "      <th>f1_score</th>\n",
       "    </tr>\n",
       "  </thead>\n",
       "  <tbody>\n",
       "    <tr>\n",
       "      <th>KNN</th>\n",
       "      <td>63.36</td>\n",
       "      <td>27.69</td>\n",
       "      <td>41.94</td>\n",
       "      <td>33.36</td>\n",
       "    </tr>\n",
       "  </tbody>\n",
       "</table>\n",
       "</div>"
      ],
      "text/plain": [
       "     accuracy  precision  recall  f1_score\n",
       "KNN     63.36      27.69   41.94     33.36"
      ]
     },
     "execution_count": 44,
     "metadata": {},
     "output_type": "execute_result"
    },
    {
     "data": {
      "image/png": "[encoded data removed]",
      "text/plain": [
       "<Figure size 640x480 with 2 Axes>"
      ]
     },
     "metadata": {},
     "output_type": "display_data"
    }
   ],
   "source": [
    "###############---spliting the data-----###############\n",
    "\n",
    "X=df.drop('case_status',axis=1)\n",
    "y=df['case_status']\n",
    "\n",
    "################---segregating the data into Train data and the test data----###########################\n",
    "\n",
    "from sklearn.model_selection import train_test_split\n",
    "X_train,X_test,y_train,y_test=train_test_split(X,\n",
    "                                              y,\n",
    "                                              random_state=0,\n",
    "                                              test_size=0.2)\n",
    "##################--fitting the model-------#####################################\n",
    "from sklearn.neighbors import KNeighborsClassifier\n",
    "KNN=KNeighborsClassifier()\n",
    "KNN.fit(X_train, y_train)\n",
    "\n",
    "##################--calculating the model predicted value----###############################\n",
    "\n",
    "y_pred_KNN=KNN.predict(X_test.values)\n",
    "y_pred_KNN\n",
    "\n",
    "#####################----calculating the metrics---===############################\n",
    "from sklearn.metrics import accuracy_score,precision_score,recall_score,f1_score,classification_report\n",
    "from sklearn.metrics import confusion_matrix,ConfusionMatrixDisplay\n",
    "\n",
    "KNN_cmt=confusion_matrix(y_pred_dt,y_test)\n",
    "KNN_cmt\n",
    "\n",
    "sns.heatmap(KNN_cmt,annot=True)\n",
    "#####################-----creating the data frame for the metrics value-----###########################\n",
    "\n",
    "KNN_metrics={}\n",
    "KNN_metrics['accuracy']=round(accuracy_score(y_pred_KNN,y_test)*100,2)\n",
    "KNN_metrics['precision']=round(precision_score(y_pred_KNN,y_test)*100,2)\n",
    "KNN_metrics['recall']=round(recall_score(y_pred_KNN,y_test)*100,2)\n",
    "KNN_metrics['f1_score']=round(f1_score(y_pred_KNN,y_test)*100,2)\n",
    "KNN_metrics\n",
    "\n",
    "KNN_metrics_df=pd.DataFrame(KNN_metrics,index=['KNN'])\n",
    "KNN_metrics_df"
   ]
  },
  {
   "cell_type": "code",
   "execution_count": null,
   "id": "fe1d0e9e",
   "metadata": {},
   "outputs": [],
   "source": []
  },
  {
   "cell_type": "markdown",
   "id": "775e0115",
   "metadata": {},
   "source": [
    "# Navie bayes-Model-3"
   ]
  },
  {
   "cell_type": "code",
   "execution_count": 45,
   "id": "2fff8536",
   "metadata": {},
   "outputs": [
    {
     "name": "stderr",
     "output_type": "stream",
     "text": [
      "C:\\Users\\DELL\\anaconda3\\Lib\\site-packages\\sklearn\\base.py:464: UserWarning: X does not have valid feature names, but GaussianNB was fitted with feature names\n",
      "  warnings.warn(\n"
     ]
    },
    {
     "data": {
      "text/html": [
       "<div>\n",
       "<style scoped>\n",
       "    .dataframe tbody tr th:only-of-type {\n",
       "        vertical-align: middle;\n",
       "    }\n",
       "\n",
       "    .dataframe tbody tr th {\n",
       "        vertical-align: top;\n",
       "    }\n",
       "\n",
       "    .dataframe thead th {\n",
       "        text-align: right;\n",
       "    }\n",
       "</style>\n",
       "<table border=\"1\" class=\"dataframe\">\n",
       "  <thead>\n",
       "    <tr style=\"text-align: right;\">\n",
       "      <th></th>\n",
       "      <th>accuracy</th>\n",
       "      <th>precision</th>\n",
       "      <th>recall</th>\n",
       "      <th>f1_score</th>\n",
       "    </tr>\n",
       "  </thead>\n",
       "  <tbody>\n",
       "    <tr>\n",
       "      <th>Navie Bayes</th>\n",
       "      <td>69.05</td>\n",
       "      <td>15.48</td>\n",
       "      <td>63.33</td>\n",
       "      <td>24.87</td>\n",
       "    </tr>\n",
       "  </tbody>\n",
       "</table>\n",
       "</div>"
      ],
      "text/plain": [
       "             accuracy  precision  recall  f1_score\n",
       "Navie Bayes     69.05      15.48   63.33     24.87"
      ]
     },
     "execution_count": 45,
     "metadata": {},
     "output_type": "execute_result"
    },
    {
     "data": {
      "image/png": "[encoded data removed]",
      "text/plain": [
       "<Figure size 640x480 with 2 Axes>"
      ]
     },
     "metadata": {},
     "output_type": "display_data"
    }
   ],
   "source": [
    "##############------splitting the data-----######################\n",
    "\n",
    "X=df.drop('case_status',axis=1)\n",
    "y=df['case_status']\n",
    "\n",
    "####################---segregating the data into Train data and the test data----##########\n",
    "\n",
    "from sklearn.model_selection import train_test_split\n",
    "X_train,X_test,y_train,y_test=train_test_split(X,\n",
    "                                              y,\n",
    "                                              random_state=0,\n",
    "                                              test_size=0.2)\n",
    "#####################----Fitting the model---------##############################\n",
    "from sklearn.naive_bayes import GaussianNB\n",
    "NB=GaussianNB()\n",
    "NB.fit(X_train, y_train)\n",
    "\n",
    "######################-----calculating the model predicted value-----------------###########################\n",
    "\n",
    "y_pred_NB=NB.predict(X_test.values)\n",
    "y_pred_NB\n",
    "\n",
    "#######################--------calculating the metrics--------------##########################\n",
    "from sklearn.metrics import accuracy_score,precision_score,recall_score,f1_score,classification_report\n",
    "from sklearn.metrics import confusion_matrix,ConfusionMatrixDisplay\n",
    "\n",
    "NB_cmt=confusion_matrix(y_pred_dt,y_test)\n",
    "NB_cmt\n",
    "\n",
    "sns.heatmap(NB_cmt,annot=True)\n",
    "\n",
    "###################-----creating the data frame for the calculated metrics--------#############################\n",
    "\n",
    "NB_metrics={}\n",
    "NB_metrics['accuracy']=round(accuracy_score(y_pred_NB,y_test)*100,2)\n",
    "NB_metrics['precision']=round(precision_score(y_pred_NB,y_test)*100,2)\n",
    "NB_metrics['recall']=round(recall_score(y_pred_NB,y_test)*100,2)\n",
    "NB_metrics['f1_score']=round(f1_score(y_pred_NB,y_test)*100,2)\n",
    "NB_metrics\n",
    "\n",
    "NB_metrics_df=pd.DataFrame(NB_metrics,index=['Navie Bayes'])\n",
    "NB_metrics_df"
   ]
  },
  {
   "cell_type": "code",
   "execution_count": null,
   "id": "89ff9e5a",
   "metadata": {},
   "outputs": [],
   "source": []
  },
  {
   "cell_type": "markdown",
   "id": "2d49bbfd",
   "metadata": {},
   "source": [
    "# Logistic Regressio-Model-4"
   ]
  },
  {
   "cell_type": "code",
   "execution_count": 46,
   "id": "66cbd37d",
   "metadata": {},
   "outputs": [
    {
     "name": "stderr",
     "output_type": "stream",
     "text": [
      "C:\\Users\\DELL\\anaconda3\\Lib\\site-packages\\sklearn\\base.py:464: UserWarning: X does not have valid feature names, but LogisticRegression was fitted with feature names\n",
      "  warnings.warn(\n",
      "C:\\Users\\DELL\\anaconda3\\Lib\\site-packages\\sklearn\\metrics\\_classification.py:1469: UndefinedMetricWarning: Recall is ill-defined and being set to 0.0 due to no true samples. Use `zero_division` parameter to control this behavior.\n",
      "  _warn_prf(average, modifier, msg_start, len(result))\n"
     ]
    },
    {
     "data": {
      "text/html": [
       "<div>\n",
       "<style scoped>\n",
       "    .dataframe tbody tr th:only-of-type {\n",
       "        vertical-align: middle;\n",
       "    }\n",
       "\n",
       "    .dataframe tbody tr th {\n",
       "        vertical-align: top;\n",
       "    }\n",
       "\n",
       "    .dataframe thead th {\n",
       "        text-align: right;\n",
       "    }\n",
       "</style>\n",
       "<table border=\"1\" class=\"dataframe\">\n",
       "  <thead>\n",
       "    <tr style=\"text-align: right;\">\n",
       "      <th></th>\n",
       "      <th>accuracy</th>\n",
       "      <th>precision</th>\n",
       "      <th>recall</th>\n",
       "      <th>f1_score</th>\n",
       "    </tr>\n",
       "  </thead>\n",
       "  <tbody>\n",
       "    <tr>\n",
       "      <th>Logistic Regression</th>\n",
       "      <td>66.89</td>\n",
       "      <td>0.0</td>\n",
       "      <td>0.0</td>\n",
       "      <td>0.0</td>\n",
       "    </tr>\n",
       "  </tbody>\n",
       "</table>\n",
       "</div>"
      ],
      "text/plain": [
       "                     accuracy  precision  recall  f1_score\n",
       "Logistic Regression     66.89        0.0     0.0       0.0"
      ]
     },
     "execution_count": 46,
     "metadata": {},
     "output_type": "execute_result"
    },
    {
     "data": {
      "image/png": "[encoded data removed]",
      "text/plain": [
       "<Figure size 640x480 with 2 Axes>"
      ]
     },
     "metadata": {},
     "output_type": "display_data"
    }
   ],
   "source": [
    "################-----splitting the data-----######################\n",
    "\n",
    "X=df.drop('case_status',axis=1)\n",
    "y=df['case_status']\n",
    "\n",
    "#################-----model selection---------#########################\n",
    "\n",
    "from sklearn.model_selection import train_test_split\n",
    "X_train,X_test,y_train,y_test=train_test_split(X,\n",
    "                                              y,\n",
    "                                              random_state=0,\n",
    "                                              test_size=0.2)\n",
    "##################--------------fitting the model--------#################################\n",
    "from sklearn.linear_model import LogisticRegression\n",
    "LG=LogisticRegression()\n",
    "LG.fit(X_train, y_train)\n",
    "\n",
    "#################---calculating the model predicted value---------------##############################\n",
    "\n",
    "y_pred_LG=LG.predict(X_test.values)\n",
    "y_pred_LG\n",
    "\n",
    "##################----calculating the metrics-----------###############################\n",
    "from sklearn.metrics import accuracy_score,precision_score,recall_score,f1_score,classification_report\n",
    "from sklearn.metrics import confusion_matrix,ConfusionMatrixDisplay\n",
    "\n",
    "LG_cmt=confusion_matrix(y_pred_LG,y_test)\n",
    "LG_cmt\n",
    "\n",
    "sns.heatmap(LG_cmt,annot=True)\n",
    "####################--------------creating the data frame for the calculated metrics------------##########################\n",
    "\n",
    "LG_metrics={}\n",
    "LG_metrics['accuracy']=round(accuracy_score(y_pred_LG,y_test)*100,2)\n",
    "LG_metrics['precision']=round(precision_score(y_pred_LG,y_test)*100,2)\n",
    "LG_metrics['recall']=round(recall_score(y_pred_LG,y_test)*100,2)\n",
    "LG_metrics['f1_score']=round(f1_score(y_pred_LG,y_test)*100,2)\n",
    "LG_metrics\n",
    "\n",
    "LG_metrics_df=pd.DataFrame(LG_metrics,index=['Logistic Regression'])\n",
    "LG_metrics_df"
   ]
  },
  {
   "cell_type": "code",
   "execution_count": null,
   "id": "deea67a5",
   "metadata": {},
   "outputs": [],
   "source": []
  },
  {
   "cell_type": "markdown",
   "id": "5d891324",
   "metadata": {},
   "source": [
    "# Random Forest-Model-5"
   ]
  },
  {
   "cell_type": "code",
   "execution_count": 47,
   "id": "0ee49af1",
   "metadata": {},
   "outputs": [
    {
     "data": {
      "text/html": [
       "<div>\n",
       "<style scoped>\n",
       "    .dataframe tbody tr th:only-of-type {\n",
       "        vertical-align: middle;\n",
       "    }\n",
       "\n",
       "    .dataframe tbody tr th {\n",
       "        vertical-align: top;\n",
       "    }\n",
       "\n",
       "    .dataframe thead th {\n",
       "        text-align: right;\n",
       "    }\n",
       "</style>\n",
       "<table border=\"1\" class=\"dataframe\">\n",
       "  <thead>\n",
       "    <tr style=\"text-align: right;\">\n",
       "      <th></th>\n",
       "      <th>accuracy</th>\n",
       "      <th>precision</th>\n",
       "      <th>recall</th>\n",
       "      <th>f1_score</th>\n",
       "    </tr>\n",
       "  </thead>\n",
       "  <tbody>\n",
       "    <tr>\n",
       "      <th>Random Forest</th>\n",
       "      <td>72.66</td>\n",
       "      <td>49.12</td>\n",
       "      <td>60.78</td>\n",
       "      <td>54.33</td>\n",
       "    </tr>\n",
       "  </tbody>\n",
       "</table>\n",
       "</div>"
      ],
      "text/plain": [
       "               accuracy  precision  recall  f1_score\n",
       "Random Forest     72.66      49.12   60.78     54.33"
      ]
     },
     "execution_count": 47,
     "metadata": {},
     "output_type": "execute_result"
    },
    {
     "data": {
      "image/png": "[encoded data removed]",
      "text/plain": [
       "<Figure size 640x480 with 2 Axes>"
      ]
     },
     "metadata": {},
     "output_type": "display_data"
    }
   ],
   "source": [
    "################-----------splitting the data into input-X and the ouput-y--------############333\n",
    "\n",
    "X=df.drop('case_status',axis=1)\n",
    "y=df['case_status']\n",
    "\n",
    "\n",
    "################-----------model selction-----------##############################\n",
    "from sklearn.model_selection import train_test_split\n",
    "X_train,X_test,y_train,y_test=train_test_split(X,\n",
    "                                              y,\n",
    "                                              random_state=0,\n",
    "                                              test_size=0.2)\n",
    "########################--------model training------------######################################\n",
    "from sklearn.ensemble import RandomForestClassifier\n",
    "RF=RandomForestClassifier()\n",
    "RF.fit(X_train,y_train)\n",
    "\n",
    "################---------calculating the model predicted value---------################\n",
    "\n",
    "\n",
    "y_pred_RF=RF.predict(X_test)\n",
    "y_pred_RF\n",
    "\n",
    "#################-------calculating the metrics in classification-------##############################\n",
    "from sklearn.metrics import accuracy_score,precision_score,recall_score,f1_score,classification_report\n",
    "from sklearn.metrics import confusion_matrix,ConfusionMatrixDisplay\n",
    "\n",
    "RF_cmt=confusion_matrix(y_pred_RF,y_test)\n",
    "RF_cmt\n",
    "sns.heatmap(RF_cmt,annot=True)\n",
    "\n",
    "#################-------------creating the data frame for the calculated accuracy-------#############################\n",
    "\n",
    "RF_metrics={}\n",
    "RF_metrics['accuracy']=round(accuracy_score(y_pred_RF,y_test)*100,2)\n",
    "RF_metrics['precision']=round(precision_score(y_pred_RF,y_test)*100,2)\n",
    "RF_metrics['recall']=round(recall_score(y_pred_RF,y_test)*100,2)\n",
    "RF_metrics['f1_score']=round(f1_score(y_pred_RF,y_test)*100,2)\n",
    "RF_metrics\n",
    "\n",
    "RF_metrics_df=pd.DataFrame(RF_metrics,index=['Random Forest'])\n",
    "RF_metrics_df"
   ]
  },
  {
   "cell_type": "markdown",
   "id": "463f1b91",
   "metadata": {},
   "source": [
    "# creating the data frame for the metrics calculated in the clasification models"
   ]
  },
  {
   "cell_type": "code",
   "execution_count": 48,
   "id": "b92174b4",
   "metadata": {},
   "outputs": [],
   "source": [
    "Metrics_df = pd.concat([RF_metrics_df,NB_metrics_df,LG_metrics_df,NB_metrics_df,dt_metrics_df], axis=0)\n"
   ]
  },
  {
   "cell_type": "code",
   "execution_count": 49,
   "id": "f509662d",
   "metadata": {},
   "outputs": [
    {
     "data": {
      "text/html": [
       "<div>\n",
       "<style scoped>\n",
       "    .dataframe tbody tr th:only-of-type {\n",
       "        vertical-align: middle;\n",
       "    }\n",
       "\n",
       "    .dataframe tbody tr th {\n",
       "        vertical-align: top;\n",
       "    }\n",
       "\n",
       "    .dataframe thead th {\n",
       "        text-align: right;\n",
       "    }\n",
       "</style>\n",
       "<table border=\"1\" class=\"dataframe\">\n",
       "  <thead>\n",
       "    <tr style=\"text-align: right;\">\n",
       "      <th></th>\n",
       "      <th>accuracy</th>\n",
       "      <th>precision</th>\n",
       "      <th>recall</th>\n",
       "      <th>f1_score</th>\n",
       "    </tr>\n",
       "  </thead>\n",
       "  <tbody>\n",
       "    <tr>\n",
       "      <th>Random Forest</th>\n",
       "      <td>72.66</td>\n",
       "      <td>49.12</td>\n",
       "      <td>60.78</td>\n",
       "      <td>54.33</td>\n",
       "    </tr>\n",
       "    <tr>\n",
       "      <th>Navie Bayes</th>\n",
       "      <td>69.05</td>\n",
       "      <td>15.48</td>\n",
       "      <td>63.33</td>\n",
       "      <td>24.87</td>\n",
       "    </tr>\n",
       "    <tr>\n",
       "      <th>Logistic Regression</th>\n",
       "      <td>66.89</td>\n",
       "      <td>0.00</td>\n",
       "      <td>0.00</td>\n",
       "      <td>0.00</td>\n",
       "    </tr>\n",
       "    <tr>\n",
       "      <th>Navie Bayes</th>\n",
       "      <td>69.05</td>\n",
       "      <td>15.48</td>\n",
       "      <td>63.33</td>\n",
       "      <td>24.87</td>\n",
       "    </tr>\n",
       "    <tr>\n",
       "      <th>Decision Tree</th>\n",
       "      <td>65.77</td>\n",
       "      <td>52.32</td>\n",
       "      <td>48.43</td>\n",
       "      <td>50.30</td>\n",
       "    </tr>\n",
       "  </tbody>\n",
       "</table>\n",
       "</div>"
      ],
      "text/plain": [
       "                     accuracy  precision  recall  f1_score\n",
       "Random Forest           72.66      49.12   60.78     54.33\n",
       "Navie Bayes             69.05      15.48   63.33     24.87\n",
       "Logistic Regression     66.89       0.00    0.00      0.00\n",
       "Navie Bayes             69.05      15.48   63.33     24.87\n",
       "Decision Tree           65.77      52.32   48.43     50.30"
      ]
     },
     "execution_count": 49,
     "metadata": {},
     "output_type": "execute_result"
    }
   ],
   "source": [
    "Metrics_df"
   ]
  },
  {
   "cell_type": "code",
   "execution_count": null,
   "id": "5a17e572",
   "metadata": {},
   "outputs": [],
   "source": []
  }
 ],
 "metadata": {
  "kernelspec": {
   "display_name": "Python 3 (ipykernel)",
   "language": "python",
   "name": "python3"
  },
  "language_info": {
   "codemirror_mode": {
    "name": "ipython",
    "version": 3
   },
   "file_extension": ".py",
   "mimetype": "text/x-python",
   "name": "python",
   "nbconvert_exporter": "python",
   "pygments_lexer": "ipython3",
   "version": "3.11.4"
  }
 },
 "nbformat": 4,
 "nbformat_minor": 5
}
